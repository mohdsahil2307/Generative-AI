{
 "cells": [
  {
   "cell_type": "markdown",
   "metadata": {},
   "source": []
  },
  {
   "cell_type": "code",
   "execution_count": 68,
   "metadata": {},
   "outputs": [],
   "source": [
    "import pandas as pd\n",
    "import numpy as np\n",
    "import pickle\n",
    "import tensorflow"
   ]
  },
  {
   "cell_type": "code",
   "execution_count": 69,
   "metadata": {},
   "outputs": [
    {
     "data": {
      "text/html": [
       "<div>\n",
       "<style scoped>\n",
       "    .dataframe tbody tr th:only-of-type {\n",
       "        vertical-align: middle;\n",
       "    }\n",
       "\n",
       "    .dataframe tbody tr th {\n",
       "        vertical-align: top;\n",
       "    }\n",
       "\n",
       "    .dataframe thead th {\n",
       "        text-align: right;\n",
       "    }\n",
       "</style>\n",
       "<table border=\"1\" class=\"dataframe\">\n",
       "  <thead>\n",
       "    <tr style=\"text-align: right;\">\n",
       "      <th></th>\n",
       "      <th>RowNumber</th>\n",
       "      <th>CustomerId</th>\n",
       "      <th>Surname</th>\n",
       "      <th>CreditScore</th>\n",
       "      <th>Geography</th>\n",
       "      <th>Gender</th>\n",
       "      <th>Age</th>\n",
       "      <th>Tenure</th>\n",
       "      <th>Balance</th>\n",
       "      <th>NumOfProducts</th>\n",
       "      <th>HasCrCard</th>\n",
       "      <th>IsActiveMember</th>\n",
       "      <th>EstimatedSalary</th>\n",
       "      <th>Exited</th>\n",
       "    </tr>\n",
       "  </thead>\n",
       "  <tbody>\n",
       "    <tr>\n",
       "      <th>0</th>\n",
       "      <td>1</td>\n",
       "      <td>15634602</td>\n",
       "      <td>Hargrave</td>\n",
       "      <td>619</td>\n",
       "      <td>France</td>\n",
       "      <td>Female</td>\n",
       "      <td>42</td>\n",
       "      <td>2</td>\n",
       "      <td>0.00</td>\n",
       "      <td>1</td>\n",
       "      <td>1</td>\n",
       "      <td>1</td>\n",
       "      <td>101348.88</td>\n",
       "      <td>1</td>\n",
       "    </tr>\n",
       "    <tr>\n",
       "      <th>1</th>\n",
       "      <td>2</td>\n",
       "      <td>15647311</td>\n",
       "      <td>Hill</td>\n",
       "      <td>608</td>\n",
       "      <td>Spain</td>\n",
       "      <td>Female</td>\n",
       "      <td>41</td>\n",
       "      <td>1</td>\n",
       "      <td>83807.86</td>\n",
       "      <td>1</td>\n",
       "      <td>0</td>\n",
       "      <td>1</td>\n",
       "      <td>112542.58</td>\n",
       "      <td>0</td>\n",
       "    </tr>\n",
       "    <tr>\n",
       "      <th>2</th>\n",
       "      <td>3</td>\n",
       "      <td>15619304</td>\n",
       "      <td>Onio</td>\n",
       "      <td>502</td>\n",
       "      <td>France</td>\n",
       "      <td>Female</td>\n",
       "      <td>42</td>\n",
       "      <td>8</td>\n",
       "      <td>159660.80</td>\n",
       "      <td>3</td>\n",
       "      <td>1</td>\n",
       "      <td>0</td>\n",
       "      <td>113931.57</td>\n",
       "      <td>1</td>\n",
       "    </tr>\n",
       "    <tr>\n",
       "      <th>3</th>\n",
       "      <td>4</td>\n",
       "      <td>15701354</td>\n",
       "      <td>Boni</td>\n",
       "      <td>699</td>\n",
       "      <td>France</td>\n",
       "      <td>Female</td>\n",
       "      <td>39</td>\n",
       "      <td>1</td>\n",
       "      <td>0.00</td>\n",
       "      <td>2</td>\n",
       "      <td>0</td>\n",
       "      <td>0</td>\n",
       "      <td>93826.63</td>\n",
       "      <td>0</td>\n",
       "    </tr>\n",
       "    <tr>\n",
       "      <th>4</th>\n",
       "      <td>5</td>\n",
       "      <td>15737888</td>\n",
       "      <td>Mitchell</td>\n",
       "      <td>850</td>\n",
       "      <td>Spain</td>\n",
       "      <td>Female</td>\n",
       "      <td>43</td>\n",
       "      <td>2</td>\n",
       "      <td>125510.82</td>\n",
       "      <td>1</td>\n",
       "      <td>1</td>\n",
       "      <td>1</td>\n",
       "      <td>79084.10</td>\n",
       "      <td>0</td>\n",
       "    </tr>\n",
       "  </tbody>\n",
       "</table>\n",
       "</div>"
      ],
      "text/plain": [
       "   RowNumber  CustomerId   Surname  CreditScore Geography  Gender  Age  \\\n",
       "0          1    15634602  Hargrave          619    France  Female   42   \n",
       "1          2    15647311      Hill          608     Spain  Female   41   \n",
       "2          3    15619304      Onio          502    France  Female   42   \n",
       "3          4    15701354      Boni          699    France  Female   39   \n",
       "4          5    15737888  Mitchell          850     Spain  Female   43   \n",
       "\n",
       "   Tenure    Balance  NumOfProducts  HasCrCard  IsActiveMember  \\\n",
       "0       2       0.00              1          1               1   \n",
       "1       1   83807.86              1          0               1   \n",
       "2       8  159660.80              3          1               0   \n",
       "3       1       0.00              2          0               0   \n",
       "4       2  125510.82              1          1               1   \n",
       "\n",
       "   EstimatedSalary  Exited  \n",
       "0        101348.88       1  \n",
       "1        112542.58       0  \n",
       "2        113931.57       1  \n",
       "3         93826.63       0  \n",
       "4         79084.10       0  "
      ]
     },
     "execution_count": 69,
     "metadata": {},
     "output_type": "execute_result"
    }
   ],
   "source": [
    "data = pd.read_csv('Churn_Modelling.csv')\n",
    "data.head()"
   ]
  },
  {
   "cell_type": "code",
   "execution_count": 70,
   "metadata": {},
   "outputs": [
    {
     "data": {
      "text/html": [
       "<div>\n",
       "<style scoped>\n",
       "    .dataframe tbody tr th:only-of-type {\n",
       "        vertical-align: middle;\n",
       "    }\n",
       "\n",
       "    .dataframe tbody tr th {\n",
       "        vertical-align: top;\n",
       "    }\n",
       "\n",
       "    .dataframe thead th {\n",
       "        text-align: right;\n",
       "    }\n",
       "</style>\n",
       "<table border=\"1\" class=\"dataframe\">\n",
       "  <thead>\n",
       "    <tr style=\"text-align: right;\">\n",
       "      <th></th>\n",
       "      <th>CreditScore</th>\n",
       "      <th>Geography</th>\n",
       "      <th>Gender</th>\n",
       "      <th>Age</th>\n",
       "      <th>Tenure</th>\n",
       "      <th>Balance</th>\n",
       "      <th>NumOfProducts</th>\n",
       "      <th>HasCrCard</th>\n",
       "      <th>IsActiveMember</th>\n",
       "      <th>EstimatedSalary</th>\n",
       "      <th>Exited</th>\n",
       "    </tr>\n",
       "  </thead>\n",
       "  <tbody>\n",
       "    <tr>\n",
       "      <th>0</th>\n",
       "      <td>619</td>\n",
       "      <td>France</td>\n",
       "      <td>Female</td>\n",
       "      <td>42</td>\n",
       "      <td>2</td>\n",
       "      <td>0.00</td>\n",
       "      <td>1</td>\n",
       "      <td>1</td>\n",
       "      <td>1</td>\n",
       "      <td>101348.88</td>\n",
       "      <td>1</td>\n",
       "    </tr>\n",
       "    <tr>\n",
       "      <th>1</th>\n",
       "      <td>608</td>\n",
       "      <td>Spain</td>\n",
       "      <td>Female</td>\n",
       "      <td>41</td>\n",
       "      <td>1</td>\n",
       "      <td>83807.86</td>\n",
       "      <td>1</td>\n",
       "      <td>0</td>\n",
       "      <td>1</td>\n",
       "      <td>112542.58</td>\n",
       "      <td>0</td>\n",
       "    </tr>\n",
       "    <tr>\n",
       "      <th>2</th>\n",
       "      <td>502</td>\n",
       "      <td>France</td>\n",
       "      <td>Female</td>\n",
       "      <td>42</td>\n",
       "      <td>8</td>\n",
       "      <td>159660.80</td>\n",
       "      <td>3</td>\n",
       "      <td>1</td>\n",
       "      <td>0</td>\n",
       "      <td>113931.57</td>\n",
       "      <td>1</td>\n",
       "    </tr>\n",
       "    <tr>\n",
       "      <th>3</th>\n",
       "      <td>699</td>\n",
       "      <td>France</td>\n",
       "      <td>Female</td>\n",
       "      <td>39</td>\n",
       "      <td>1</td>\n",
       "      <td>0.00</td>\n",
       "      <td>2</td>\n",
       "      <td>0</td>\n",
       "      <td>0</td>\n",
       "      <td>93826.63</td>\n",
       "      <td>0</td>\n",
       "    </tr>\n",
       "    <tr>\n",
       "      <th>4</th>\n",
       "      <td>850</td>\n",
       "      <td>Spain</td>\n",
       "      <td>Female</td>\n",
       "      <td>43</td>\n",
       "      <td>2</td>\n",
       "      <td>125510.82</td>\n",
       "      <td>1</td>\n",
       "      <td>1</td>\n",
       "      <td>1</td>\n",
       "      <td>79084.10</td>\n",
       "      <td>0</td>\n",
       "    </tr>\n",
       "  </tbody>\n",
       "</table>\n",
       "</div>"
      ],
      "text/plain": [
       "   CreditScore Geography  Gender  Age  Tenure    Balance  NumOfProducts  \\\n",
       "0          619    France  Female   42       2       0.00              1   \n",
       "1          608     Spain  Female   41       1   83807.86              1   \n",
       "2          502    France  Female   42       8  159660.80              3   \n",
       "3          699    France  Female   39       1       0.00              2   \n",
       "4          850     Spain  Female   43       2  125510.82              1   \n",
       "\n",
       "   HasCrCard  IsActiveMember  EstimatedSalary  Exited  \n",
       "0          1               1        101348.88       1  \n",
       "1          0               1        112542.58       0  \n",
       "2          1               0        113931.57       1  \n",
       "3          0               0         93826.63       0  \n",
       "4          1               1         79084.10       0  "
      ]
     },
     "execution_count": 70,
     "metadata": {},
     "output_type": "execute_result"
    }
   ],
   "source": [
    "data = data.drop(columns=['RowNumber','CustomerId','Surname'],axis=1)\n",
    "data.head()"
   ]
  },
  {
   "cell_type": "code",
   "execution_count": 71,
   "metadata": {},
   "outputs": [],
   "source": [
    "# LOADING THE ENCODERS\n",
    "\n",
    "with open('label_encoder_gender.pkl','rb') as file : \n",
    "    gender_encoder = pickle.load(file)\n",
    "with open('one_hot_encoder_geo.pkl','rb') as file:\n",
    "    geo_encoder = pickle.load(file)\n",
    "    "
   ]
  },
  {
   "cell_type": "code",
   "execution_count": 72,
   "metadata": {},
   "outputs": [],
   "source": [
    "data['Gender'] = gender_encoder.transform(data['Gender'])"
   ]
  },
  {
   "cell_type": "code",
   "execution_count": 73,
   "metadata": {},
   "outputs": [],
   "source": [
    "encoded_geo = geo_encoder.transform(data[['Geography']])\n"
   ]
  },
  {
   "cell_type": "code",
   "execution_count": 74,
   "metadata": {},
   "outputs": [],
   "source": [
    "geo_df = pd.DataFrame(encoded_geo.toarray(),columns=geo_encoder.get_feature_names_out())"
   ]
  },
  {
   "cell_type": "code",
   "execution_count": 75,
   "metadata": {},
   "outputs": [],
   "source": [
    "data = pd.concat([data,geo_df],axis=1)\n",
    "data = data.drop(columns=['Geography'],axis=1)"
   ]
  },
  {
   "cell_type": "code",
   "execution_count": 76,
   "metadata": {},
   "outputs": [],
   "source": [
    "X = data.drop('EstimatedSalary',axis=1)\n",
    "y = data['EstimatedSalary']"
   ]
  },
  {
   "cell_type": "code",
   "execution_count": 77,
   "metadata": {},
   "outputs": [],
   "source": [
    "from sklearn.model_selection import train_test_split\n",
    "\n",
    "X_train,X_test,y_train,y_test = train_test_split(X,y,test_size=0.2, random_state=42)"
   ]
  },
  {
   "cell_type": "code",
   "execution_count": 78,
   "metadata": {},
   "outputs": [
    {
     "data": {
      "text/plain": [
       "array([[-5.12501721e-01,  9.09111664e-01, -6.77299309e-01, ...,\n",
       "        -1.02020406e+00,  1.73668197e+00, -5.63491843e-01],\n",
       "       [-2.36046598e-01,  9.09111664e-01,  3.84298354e-01, ...,\n",
       "         9.80196059e-01, -5.75810666e-01, -5.63491843e-01],\n",
       "       [-4.61306328e-01, -1.09997489e+00,  4.80807232e-01, ...,\n",
       "        -1.02020406e+00, -5.75810666e-01,  1.77464858e+00],\n",
       "       ...,\n",
       "       [ 8.59534812e-01, -1.09997489e+00,  7.70333868e-01, ...,\n",
       "         9.80196059e-01, -5.75810666e-01, -5.63491843e-01],\n",
       "       [ 4.70449825e-01,  9.09111664e-01, -9.66825944e-01, ...,\n",
       "         9.80196059e-01, -5.75810666e-01, -5.63491843e-01],\n",
       "       [-1.84851205e-01,  9.09111664e-01, -1.73715981e-03, ...,\n",
       "        -1.02020406e+00,  1.73668197e+00, -5.63491843e-01]])"
      ]
     },
     "execution_count": 78,
     "metadata": {},
     "output_type": "execute_result"
    }
   ],
   "source": [
    "from sklearn.preprocessing import StandardScaler\n",
    "\n",
    "scaler = StandardScaler()\n",
    "scaled_values = scaler.fit_transform(X_test)\n",
    "scaled_values"
   ]
  },
  {
   "cell_type": "code",
   "execution_count": 82,
   "metadata": {},
   "outputs": [],
   "source": [
    "import tensorflow as tf\n",
    "from tensorflow.keras.models import Sequential\n",
    "from tensorflow.keras.layers import Dense\n",
    "from tensorflow.keras.callbacks import EarlyStopping, TensorBoard ##IMPORTANT\n",
    "import datetime"
   ]
  },
  {
   "cell_type": "code",
   "execution_count": 83,
   "metadata": {},
   "outputs": [
    {
     "name": "stdout",
     "output_type": "stream",
     "text": [
      "WARNING:tensorflow:From c:\\Users\\ASUS\\Desktop\\University of Luxembourg\\Udemy\\Learning GenAI\\NLP\\Churn Classification\\annclassification\\venv\\Lib\\site-packages\\keras\\src\\backend.py:873: The name tf.get_default_graph is deprecated. Please use tf.compat.v1.get_default_graph instead.\n",
      "\n",
      "WARNING:tensorflow:From c:\\Users\\ASUS\\Desktop\\University of Luxembourg\\Udemy\\Learning GenAI\\NLP\\Churn Classification\\annclassification\\venv\\Lib\\site-packages\\keras\\src\\optimizers\\__init__.py:309: The name tf.train.Optimizer is deprecated. Please use tf.compat.v1.train.Optimizer instead.\n",
      "\n",
      "Model: \"sequential\"\n",
      "_________________________________________________________________\n",
      " Layer (type)                Output Shape              Param #   \n",
      "=================================================================\n",
      " dense (Dense)               (None, 64)                832       \n",
      "                                                                 \n",
      " dense_1 (Dense)             (None, 32)                2080      \n",
      "                                                                 \n",
      " dense_2 (Dense)             (None, 1)                 33        \n",
      "                                                                 \n",
      "=================================================================\n",
      "Total params: 2945 (11.50 KB)\n",
      "Trainable params: 2945 (11.50 KB)\n",
      "Non-trainable params: 0 (0.00 Byte)\n",
      "_________________________________________________________________\n"
     ]
    }
   ],
   "source": [
    "model = Sequential([\n",
    "    Dense(64,activation='relu',input_shape=(X_train.shape[1],)),\n",
    "    Dense(32,activation='relu'),\n",
    "    Dense(1) #linear activation function for default\n",
    "])\n",
    "\n",
    "\n",
    "model.compile(optimizer='adam',loss='mean_absolute_error',metrics=['mae'])\n",
    "model.summary()"
   ]
  },
  {
   "cell_type": "code",
   "execution_count": 84,
   "metadata": {},
   "outputs": [
    {
     "name": "stdout",
     "output_type": "stream",
     "text": [
      "Epoch 1/100\n",
      "WARNING:tensorflow:From c:\\Users\\ASUS\\Desktop\\University of Luxembourg\\Udemy\\Learning GenAI\\NLP\\Churn Classification\\annclassification\\venv\\Lib\\site-packages\\keras\\src\\utils\\tf_utils.py:492: The name tf.ragged.RaggedTensorValue is deprecated. Please use tf.compat.v1.ragged.RaggedTensorValue instead.\n",
      "\n",
      "WARNING:tensorflow:From c:\\Users\\ASUS\\Desktop\\University of Luxembourg\\Udemy\\Learning GenAI\\NLP\\Churn Classification\\annclassification\\venv\\Lib\\site-packages\\keras\\src\\engine\\base_layer_utils.py:384: The name tf.executing_eagerly_outside_functions is deprecated. Please use tf.compat.v1.executing_eagerly_outside_functions instead.\n",
      "\n",
      "250/250 [==============================] - 3s 6ms/step - loss: 70466.6719 - mae: 70466.6719 - val_loss: 65833.0781 - val_mae: 65833.0781\n",
      "Epoch 2/100\n",
      "250/250 [==============================] - 1s 4ms/step - loss: 63192.7773 - mae: 63192.7773 - val_loss: 58280.7109 - val_mae: 58280.7109\n",
      "Epoch 3/100\n",
      "250/250 [==============================] - 1s 5ms/step - loss: 54976.6172 - mae: 54976.6172 - val_loss: 51727.9492 - val_mae: 51727.9492\n",
      "Epoch 4/100\n",
      "250/250 [==============================] - 2s 6ms/step - loss: 52118.6055 - mae: 52118.6055 - val_loss: 51289.9648 - val_mae: 51289.9648\n",
      "Epoch 5/100\n",
      "250/250 [==============================] - 1s 3ms/step - loss: 51882.8867 - mae: 51882.8867 - val_loss: 50796.0469 - val_mae: 50796.0469\n",
      "Epoch 6/100\n",
      "250/250 [==============================] - 1s 4ms/step - loss: 51528.7539 - mae: 51528.7539 - val_loss: 50546.6914 - val_mae: 50546.6914\n",
      "Epoch 7/100\n",
      "250/250 [==============================] - 1s 4ms/step - loss: 51506.5625 - mae: 51506.5625 - val_loss: 50573.9609 - val_mae: 50573.9609\n",
      "Epoch 8/100\n",
      "250/250 [==============================] - 1s 3ms/step - loss: 51286.4023 - mae: 51286.4023 - val_loss: 50417.5508 - val_mae: 50417.5508\n",
      "Epoch 9/100\n",
      "250/250 [==============================] - 1s 4ms/step - loss: 51326.7578 - mae: 51326.7578 - val_loss: 51455.1289 - val_mae: 51455.1289\n",
      "Epoch 10/100\n",
      "250/250 [==============================] - 1s 4ms/step - loss: 51418.7305 - mae: 51418.7305 - val_loss: 50376.9375 - val_mae: 50376.9375\n",
      "Epoch 11/100\n",
      "250/250 [==============================] - 1s 4ms/step - loss: 50980.1797 - mae: 50980.1797 - val_loss: 50325.6133 - val_mae: 50325.6133\n",
      "Epoch 12/100\n",
      "250/250 [==============================] - 1s 5ms/step - loss: 51327.2539 - mae: 51327.2539 - val_loss: 50684.9062 - val_mae: 50684.9062\n",
      "Epoch 13/100\n",
      "250/250 [==============================] - 1s 4ms/step - loss: 51014.8281 - mae: 51014.8281 - val_loss: 50366.1992 - val_mae: 50366.1992\n",
      "Epoch 14/100\n",
      "250/250 [==============================] - 1s 4ms/step - loss: 51221.9102 - mae: 51221.9102 - val_loss: 50442.5469 - val_mae: 50442.5469\n",
      "Epoch 15/100\n",
      "250/250 [==============================] - 1s 4ms/step - loss: 50960.6133 - mae: 50960.6133 - val_loss: 50563.5000 - val_mae: 50563.5000\n",
      "Epoch 16/100\n",
      "250/250 [==============================] - 1s 3ms/step - loss: 50927.0664 - mae: 50927.0664 - val_loss: 50560.1094 - val_mae: 50560.1094\n",
      "Epoch 17/100\n",
      "250/250 [==============================] - 1s 3ms/step - loss: 51100.0742 - mae: 51100.0742 - val_loss: 50535.6914 - val_mae: 50535.6914\n",
      "Epoch 18/100\n",
      "250/250 [==============================] - 1s 4ms/step - loss: 50932.9102 - mae: 50932.9102 - val_loss: 50545.6953 - val_mae: 50545.6953\n",
      "Epoch 19/100\n",
      "250/250 [==============================] - 1s 4ms/step - loss: 50988.5938 - mae: 50988.5938 - val_loss: 50916.9102 - val_mae: 50916.9102\n",
      "Epoch 20/100\n",
      "250/250 [==============================] - 1s 3ms/step - loss: 51096.6094 - mae: 51096.6094 - val_loss: 50314.6914 - val_mae: 50314.6914\n",
      "Epoch 21/100\n",
      "250/250 [==============================] - 1s 3ms/step - loss: 51114.7305 - mae: 51114.7305 - val_loss: 50307.4492 - val_mae: 50307.4492\n",
      "Epoch 22/100\n",
      "250/250 [==============================] - 1s 3ms/step - loss: 50835.3125 - mae: 50835.3125 - val_loss: 50802.7578 - val_mae: 50802.7578\n",
      "Epoch 23/100\n",
      "250/250 [==============================] - 1s 3ms/step - loss: 50963.7930 - mae: 50963.7930 - val_loss: 50808.4766 - val_mae: 50808.4766\n",
      "Epoch 24/100\n",
      "250/250 [==============================] - 1s 3ms/step - loss: 50938.0625 - mae: 50938.0625 - val_loss: 50427.5391 - val_mae: 50427.5391\n",
      "Epoch 25/100\n",
      "250/250 [==============================] - 1s 4ms/step - loss: 50851.4297 - mae: 50851.4297 - val_loss: 50919.4961 - val_mae: 50919.4961\n",
      "Epoch 26/100\n",
      "250/250 [==============================] - 1s 4ms/step - loss: 51000.5898 - mae: 51000.5898 - val_loss: 50408.5312 - val_mae: 50408.5312\n",
      "Epoch 27/100\n",
      "250/250 [==============================] - 1s 3ms/step - loss: 51101.3359 - mae: 51101.3359 - val_loss: 50829.8281 - val_mae: 50829.8281\n",
      "Epoch 28/100\n",
      "250/250 [==============================] - 1s 5ms/step - loss: 51059.5938 - mae: 51059.5938 - val_loss: 51614.1797 - val_mae: 51614.1797\n",
      "Epoch 29/100\n",
      "250/250 [==============================] - 1s 4ms/step - loss: 51028.8047 - mae: 51028.8047 - val_loss: 50395.3945 - val_mae: 50395.3945\n",
      "Epoch 30/100\n",
      "250/250 [==============================] - 1s 4ms/step - loss: 51169.0625 - mae: 51169.0625 - val_loss: 50487.1641 - val_mae: 50487.1641\n",
      "Epoch 31/100\n",
      "250/250 [==============================] - 1s 4ms/step - loss: 51142.9453 - mae: 51142.9453 - val_loss: 50802.5586 - val_mae: 50802.5586\n"
     ]
    }
   ],
   "source": [
    "# SET UP THE TENSORBOARD TO PRINT LOGS\n",
    "\n",
    "log_dir = \"regressionlogs/fit/\" + datetime.datetime.now().strftime(\"%Y%m%d-%H%M%S\")\n",
    "tensorflow_callback = TensorBoard(log_dir=log_dir,histogram_freq=1)\n",
    "early_stopping_callback = EarlyStopping(monitor=\"val_loss\", patience = 10, restore_best_weights=True)\n",
    "\n",
    "history = model.fit(\n",
    "    X_train,y_train, validation_data = (X_test,y_test), epochs = 100,\n",
    "    callbacks = [tensorflow_callback, early_stopping_callback]    \n",
    ")"
   ]
  },
  {
   "cell_type": "code",
   "execution_count": null,
   "metadata": {},
   "outputs": [],
   "source": [
    "%load_ext tensorboard"
   ]
  },
  {
   "cell_type": "code",
   "execution_count": 87,
   "metadata": {},
   "outputs": [
    {
     "data": {
      "text/plain": [
       "Reusing TensorBoard on port 6006 (pid 11332), started 0:00:18 ago. (Use '!kill 11332' to kill it.)"
      ]
     },
     "metadata": {},
     "output_type": "display_data"
    },
    {
     "data": {
      "text/html": [
       "\n",
       "      <iframe id=\"tensorboard-frame-ee24746dd92fd85d\" width=\"100%\" height=\"800\" frameborder=\"0\">\n",
       "      </iframe>\n",
       "      <script>\n",
       "        (function() {\n",
       "          const frame = document.getElementById(\"tensorboard-frame-ee24746dd92fd85d\");\n",
       "          const url = new URL(\"http://localhost\");\n",
       "          const port = 6006;\n",
       "          if (port) {\n",
       "            url.port = port;\n",
       "          }\n",
       "          frame.src = url;\n",
       "        })();\n",
       "      </script>\n",
       "    "
      ],
      "text/plain": [
       "<IPython.core.display.HTML object>"
      ]
     },
     "metadata": {},
     "output_type": "display_data"
    }
   ],
   "source": [
    "%tensorboard --logdir regressionlogs/fit"
   ]
  },
  {
   "cell_type": "code",
   "execution_count": 88,
   "metadata": {},
   "outputs": [
    {
     "name": "stdout",
     "output_type": "stream",
     "text": [
      "63/63 [==============================] - 0s 2ms/step - loss: 50307.4492 - mae: 50307.4492\n",
      "The Test MAE is : 50307.44921875\n"
     ]
    }
   ],
   "source": [
    "test_loss , test_mae = model.evaluate(X_test,y_test)\n",
    "print(f'The Test MAE is : {test_mae}')"
   ]
  },
  {
   "cell_type": "code",
   "execution_count": 89,
   "metadata": {},
   "outputs": [
    {
     "name": "stderr",
     "output_type": "stream",
     "text": [
      "c:\\Users\\ASUS\\Desktop\\University of Luxembourg\\Udemy\\Learning GenAI\\NLP\\Churn Classification\\annclassification\\venv\\Lib\\site-packages\\keras\\src\\engine\\training.py:3103: UserWarning: You are saving your model as an HDF5 file via `model.save()`. This file format is considered legacy. We recommend using instead the native Keras format, e.g. `model.save('my_model.keras')`.\n",
      "  saving_api.save_model(\n"
     ]
    }
   ],
   "source": [
    "model.save('regressionProblem.h5')"
   ]
  }
 ],
 "metadata": {
  "kernelspec": {
   "display_name": "Python 3",
   "language": "python",
   "name": "python3"
  },
  "language_info": {
   "codemirror_mode": {
    "name": "ipython",
    "version": 3
   },
   "file_extension": ".py",
   "mimetype": "text/x-python",
   "name": "python",
   "nbconvert_exporter": "python",
   "pygments_lexer": "ipython3",
   "version": "3.11.11"
  }
 },
 "nbformat": 4,
 "nbformat_minor": 2
}
